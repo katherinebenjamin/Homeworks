{
 "cells": [
  {
   "cell_type": "code",
   "execution_count": 228,
   "metadata": {
    "collapsed": true
   },
   "outputs": [],
   "source": [
    "import pandas as pd\n",
    "import numpy as np\n",
    "import matplotlib.pyplot as plt\n",
    "from sklearn.linear_model import LinearRegression\n",
    "from sklearn.grid_search import GridSearchCV\n",
    "from sklearn.linear_model import Lasso\n",
    "from sklearn.linear_model import Ridge"
   ]
  },
  {
   "cell_type": "code",
   "execution_count": 229,
   "metadata": {
    "collapsed": false
   },
   "outputs": [],
   "source": [
    "data = pd.read_csv('YearlyMovieGross2000to20144.csv')"
   ]
  },
  {
   "cell_type": "code",
   "execution_count": 230,
   "metadata": {
    "collapsed": false,
    "scrolled": true
   },
   "outputs": [
    {
     "name": "stdout",
     "output_type": "stream",
     "text": [
      "<class 'pandas.core.frame.DataFrame'>\n",
      "Int64Index: 8462 entries, 0 to 8461\n",
      "Data columns (total 15 columns):\n",
      "Year                     8462 non-null int64\n",
      "Rank                     8462 non-null int64\n",
      "Movie Title              8462 non-null object\n",
      "Studio                   8436 non-null object\n",
      "Total Gross              8462 non-null int64\n",
      "Theaters                 8390 non-null float64\n",
      "Opening                  8173 non-null float64\n",
      "Opening Theaters Open    8215 non-null float64\n",
      "Gross.Theater            8459 non-null float64\n",
      "2014 dollars             8462 non-null int64\n",
      "Length Weeks             8459 non-null float64\n",
      "Number 1 Weeks           8462 non-null int64\n",
      "Gross per week           8174 non-null float64\n",
      "Fiscal Year              8176 non-null float64\n",
      "Quarter Fiscal Year      8176 non-null float64\n",
      "dtypes: float64(8), int64(5), object(2)\n",
      "memory usage: 1.0+ MB\n"
     ]
    }
   ],
   "source": [
    "data.info()"
   ]
  },
  {
   "cell_type": "code",
   "execution_count": 231,
   "metadata": {
    "collapsed": false
   },
   "outputs": [],
   "source": [
    "data = data.dropna()"
   ]
  },
  {
   "cell_type": "code",
   "execution_count": 232,
   "metadata": {
    "collapsed": false,
    "scrolled": true
   },
   "outputs": [
    {
     "name": "stdout",
     "output_type": "stream",
     "text": [
      "<class 'pandas.core.frame.DataFrame'>\n",
      "Int64Index: 7951 entries, 0 to 8461\n",
      "Data columns (total 15 columns):\n",
      "Year                     7951 non-null int64\n",
      "Rank                     7951 non-null int64\n",
      "Movie Title              7951 non-null object\n",
      "Studio                   7951 non-null object\n",
      "Total Gross              7951 non-null int64\n",
      "Theaters                 7951 non-null float64\n",
      "Opening                  7951 non-null float64\n",
      "Opening Theaters Open    7951 non-null float64\n",
      "Gross.Theater            7951 non-null float64\n",
      "2014 dollars             7951 non-null int64\n",
      "Length Weeks             7951 non-null float64\n",
      "Number 1 Weeks           7951 non-null int64\n",
      "Gross per week           7951 non-null float64\n",
      "Fiscal Year              7951 non-null float64\n",
      "Quarter Fiscal Year      7951 non-null float64\n",
      "dtypes: float64(8), int64(5), object(2)\n",
      "memory usage: 993.9+ KB\n"
     ]
    }
   ],
   "source": [
    "data.info()"
   ]
  },
  {
   "cell_type": "code",
   "execution_count": 233,
   "metadata": {
    "collapsed": false
   },
   "outputs": [],
   "source": [
    "# set our training\n",
    "y, X = data['Total Gross'], data[['Opening','Theaters']]"
   ]
  },
  {
   "cell_type": "code",
   "execution_count": 234,
   "metadata": {
    "collapsed": false
   },
   "outputs": [],
   "source": [
    "from sklearn.cross_validation import train_test_split\n",
    "X_train, X_test, y_train, y_test = train_test_split(X, y, random_state=1)"
   ]
  },
  {
   "cell_type": "code",
   "execution_count": 235,
   "metadata": {
    "collapsed": false
   },
   "outputs": [
    {
     "data": {
      "text/plain": [
       "0.85687610521945889"
      ]
     },
     "execution_count": 235,
     "metadata": {},
     "output_type": "execute_result"
    }
   ],
   "source": [
    "# set our training to include Rank, Opening Theaters and Gross per Theater\n",
    "y, X = data['Total Gross'], data[['Opening', 'Theaters', 'Length Weeks']]\n",
    "\n",
    "from sklearn.preprocessing import StandardScaler\n",
    "stdsc = StandardScaler()\n",
    "X_train_std = stdsc.fit_transform(X_train)\n",
    "X_test_std = stdsc.transform(X_test)\n",
    "X_train_std.shape\n",
    "\n",
    "from sklearn.cross_validation import ShuffleSplit\n",
    "\n",
    "from sklearn.grid_search import GridSearchCV\n",
    "\n",
    "from sklearn.cross_validation import ShuffleSplit\n",
    "cv = ShuffleSplit(X_train.shape[0], n_iter=10, test_size=0.2, random_state=0)\n",
    "\n",
    "from sklearn.linear_model import LinearRegression\n",
    "lr = LinearRegression()\n",
    "lr.fit(X_train_std,y_train)\n",
    "\n",
    "lr.score(X_test_std,y_test)"
   ]
  },
  {
   "cell_type": "code",
   "execution_count": 236,
   "metadata": {
    "collapsed": false
   },
   "outputs": [
    {
     "data": {
      "text/plain": [
       "0.86490432473418077"
      ]
     },
     "execution_count": 236,
     "metadata": {},
     "output_type": "execute_result"
    }
   ],
   "source": [
    "#when I ran it just using X and y values, my score was better.\n",
    "\n",
    "lr.fit(X,y)\n",
    "\n",
    "lr.score(X,y)"
   ]
  },
  {
   "cell_type": "code",
   "execution_count": 237,
   "metadata": {
    "collapsed": false
   },
   "outputs": [
    {
     "data": {
      "text/plain": [
       "0.86490432473418077"
      ]
     },
     "execution_count": 237,
     "metadata": {},
     "output_type": "execute_result"
    }
   ],
   "source": [
    "#when I ran it just using X and y values, my score was better.\n",
    "\n",
    "lr.fit(X,y)\n",
    "\n",
    "lr.score(X,y)"
   ]
  },
  {
   "cell_type": "code",
   "execution_count": 238,
   "metadata": {
    "collapsed": false
   },
   "outputs": [],
   "source": [
    "# set our training to include Year as well \n",
    "y, X = data['Total Gross'], data[['Opening','Theaters', 'Length Weeks', 'Year']]"
   ]
  },
  {
   "cell_type": "code",
   "execution_count": 239,
   "metadata": {
    "collapsed": false
   },
   "outputs": [
    {
     "data": {
      "text/plain": [
       "0.85687610521945889"
      ]
     },
     "execution_count": 239,
     "metadata": {},
     "output_type": "execute_result"
    }
   ],
   "source": [
    "lr.fit(X_train_std,y_train)\n",
    "\n",
    "lr.score(X_test_std,y_test)"
   ]
  },
  {
   "cell_type": "code",
   "execution_count": 240,
   "metadata": {
    "collapsed": false
   },
   "outputs": [
    {
     "data": {
      "text/plain": [
       "0.86508987470491339"
      ]
     },
     "execution_count": 240,
     "metadata": {},
     "output_type": "execute_result"
    }
   ],
   "source": [
    "#when I ran it just using X and y values, my score was better.\n",
    "\n",
    "lr.fit(X,y)\n",
    "\n",
    "lr.score(X,y)"
   ]
  },
  {
   "cell_type": "code",
   "execution_count": 241,
   "metadata": {
    "collapsed": true
   },
   "outputs": [],
   "source": [
    "# set our training to include Year as well \n",
    "y, X = data['Total Gross'], data[['Opening','Theaters', 'Year','Gross per week', 'Number 1 Weeks', 'Length Weeks']]"
   ]
  },
  {
   "cell_type": "code",
   "execution_count": 242,
   "metadata": {
    "collapsed": false
   },
   "outputs": [
    {
     "data": {
      "text/plain": [
       "0.85687610521945889"
      ]
     },
     "execution_count": 242,
     "metadata": {},
     "output_type": "execute_result"
    }
   ],
   "source": [
    "#my model became even more accurate when I added in Gross per week and number 1 weeks\n",
    "lr = LinearRegression()\n",
    "lr.fit(X_train_std,y_train)\n",
    "\n",
    "lr.score(X_test_std,y_test)"
   ]
  },
  {
   "cell_type": "code",
   "execution_count": 243,
   "metadata": {
    "collapsed": false
   },
   "outputs": [
    {
     "data": {
      "text/plain": [
       "0.89915957898616317"
      ]
     },
     "execution_count": 243,
     "metadata": {},
     "output_type": "execute_result"
    }
   ],
   "source": [
    "#when I ran it just using X and y values, my score was better.\n",
    "\n",
    "lr.fit(X,y)\n",
    "\n",
    "lr.score(X,y)"
   ]
  },
  {
   "cell_type": "code",
   "execution_count": 244,
   "metadata": {
    "collapsed": true
   },
   "outputs": [],
   "source": [
    "# set our training to include Rank, Opening Theaters and Gross per Theater\n",
    "y, X = data['Total Gross'], data[['Opening','Theaters', 'Year','Gross per week', 'Number 1 Weeks', 'Length Weeks', \n",
    "                                  'Rank','Opening Theaters Open', 'Gross.Theater']]"
   ]
  },
  {
   "cell_type": "code",
   "execution_count": 245,
   "metadata": {
    "collapsed": false
   },
   "outputs": [
    {
     "data": {
      "text/plain": [
       "0.91818102823677117"
      ]
     },
     "execution_count": 245,
     "metadata": {},
     "output_type": "execute_result"
    }
   ],
   "source": [
    "#when I ran it just using X and y values, my score was better.\n",
    "\n",
    "lr.fit(X,y)\n",
    "\n",
    "lr.score(X,y)"
   ]
  },
  {
   "cell_type": "code",
   "execution_count": 246,
   "metadata": {
    "collapsed": false
   },
   "outputs": [
    {
     "data": {
      "text/plain": [
       "0.85687610521945889"
      ]
     },
     "execution_count": 246,
     "metadata": {},
     "output_type": "execute_result"
    }
   ],
   "source": [
    "lr = LinearRegression()\n",
    "lr.fit(X_train_std,y_train)\n",
    "\n",
    "lr.score(X_test_std,y_test)"
   ]
  },
  {
   "cell_type": "markdown",
   "metadata": {
    "collapsed": true
   },
   "source": [
    "My score was 92 percent accurate using a lot of the feautres from my dataset and X and y values."
   ]
  },
  {
   "cell_type": "code",
   "execution_count": 247,
   "metadata": {
    "collapsed": false
   },
   "outputs": [
    {
     "data": {
      "text/plain": [
       "array([ 36266648.60380022,   6167972.51948565])"
      ]
     },
     "execution_count": 247,
     "metadata": {},
     "output_type": "execute_result"
    }
   ],
   "source": [
    "lr.coef_"
   ]
  },
  {
   "cell_type": "markdown",
   "metadata": {},
   "source": [
    "Opening Week Gross was 6 times more important than amount of Theaters the movie opened in, in terms of predicting total gross of a movie."
   ]
  },
  {
   "cell_type": "code",
   "execution_count": 248,
   "metadata": {
    "collapsed": false
   },
   "outputs": [
    {
     "data": {
      "text/html": [
       "<div>\n",
       "<table border=\"1\" class=\"dataframe\">\n",
       "  <thead>\n",
       "    <tr style=\"text-align: right;\">\n",
       "      <th></th>\n",
       "      <th>coefficients</th>\n",
       "      <th>features</th>\n",
       "    </tr>\n",
       "  </thead>\n",
       "  <tbody>\n",
       "    <tr>\n",
       "      <th>0</th>\n",
       "      <td>36266648.603800</td>\n",
       "      <td>Opening</td>\n",
       "    </tr>\n",
       "    <tr>\n",
       "      <th>1</th>\n",
       "      <td>6167972.519486</td>\n",
       "      <td>Theaters</td>\n",
       "    </tr>\n",
       "  </tbody>\n",
       "</table>\n",
       "</div>"
      ],
      "text/plain": [
       "      coefficients  features\n",
       "0  36266648.603800   Opening\n",
       "1   6167972.519486  Theaters"
      ]
     },
     "execution_count": 248,
     "metadata": {},
     "output_type": "execute_result"
    }
   ],
   "source": [
    "# create a dataframe to show our coefficients\n",
    "d = {'features': X_train.columns, 'coefficients': lr.coef_}\n",
    "pd.DataFrame(d)"
   ]
  },
  {
   "cell_type": "code",
   "execution_count": 249,
   "metadata": {
    "collapsed": false
   },
   "outputs": [],
   "source": [
    "# Linear Regression with lasso\n",
    "\n",
    "from sklearn.grid_search import GridSearchCV\n",
    "from sklearn.linear_model import Lasso\n",
    "parameters = {'alpha': np.linspace(1,10,20)}\n",
    "lasso = Lasso(normalize=True)"
   ]
  },
  {
   "cell_type": "code",
   "execution_count": 250,
   "metadata": {
    "collapsed": false,
    "scrolled": true
   },
   "outputs": [
    {
     "name": "stdout",
     "output_type": "stream",
     "text": [
      "17951241.4109\n"
     ]
    }
   ],
   "source": [
    "print(lr.intercept_)"
   ]
  },
  {
   "cell_type": "markdown",
   "metadata": {},
   "source": [
    "When I used my x_train and y_train set, my model was only 86% accurate. My score did not change, even when I added in new features. When I used X and Y, my model was 92% accurate. Again, Opening Week Gross was 6 times more important than the number of theaters a movie opened in!"
   ]
  }
 ],
 "metadata": {
  "kernelspec": {
   "display_name": "Python 2",
   "language": "python",
   "name": "python2"
  },
  "language_info": {
   "codemirror_mode": {
    "name": "ipython",
    "version": 2
   },
   "file_extension": ".py",
   "mimetype": "text/x-python",
   "name": "python",
   "nbconvert_exporter": "python",
   "pygments_lexer": "ipython2",
   "version": "2.7.10"
  }
 },
 "nbformat": 4,
 "nbformat_minor": 0
}
