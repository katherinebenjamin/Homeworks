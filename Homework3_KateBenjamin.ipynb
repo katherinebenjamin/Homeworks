{
 "cells": [
  {
   "cell_type": "markdown",
   "metadata": {},
   "source": [
    "# Give an overall summary of your performance from HW2 on the dataset. Do you see any areas for improvement?\n",
    "\n",
    "After redoing my HW2, I have learned that I first need to define x and y, take out 0s, and then place all of my modeling after I have done these steps. In HW2, my code was also all over the place, so I made an effort in HW3 to only use code I need and put it in the right order. In terms of areas for improvement, my performance scores are low so I could have picked better variables to define x and y."
   ]
  },
  {
   "cell_type": "markdown",
   "metadata": {},
   "source": [
    "# Run k-Means and PCA on the dataset and describe your results.Use the cluster outputs you got from running k-means and PCA as a new feature. Rerun your \"worst\" and \"best\" model from HW2, including this new feature along with your old features. Describe your results.\n",
    "\n",
    "I ran k-Means and visualized my results. Blood pressure and diabetes pedigree function had a larger correlation than visualizing diabetes pedigree function and class variable (0 or 1)\n",
    "\n",
    "When I ran PCA on the dataset, my performance was very low (11% accurate). \n"
   ]
  },
  {
   "cell_type": "markdown",
   "metadata": {},
   "source": [
    "# Give your conclusions on the use of k-Means and PCA on the Diabetes dataset.\n",
    "These methods are great for analyzing large datasets using unsuprivised learning. In my opinion, k-Means was a better prediction indicator on the Diabetes dataset. It was easy to visualize, and gave a good indication of the correlation between the variables in the dataset."
   ]
  },
  {
   "cell_type": "code",
   "execution_count": 189,
   "metadata": {
    "collapsed": true
   },
   "outputs": [],
   "source": [
    "import pandas as pd\n",
    "import matplotlib.pyplot as plt\n",
    "import numpy as np\n",
    "from sklearn import datasets\n",
    "from sklearn.grid_search import GridSearchCV\n",
    "from sklearn.cross_validation import train_test_split, ShuffleSplit\n",
    "from sklearn.cluster import KMeans\n",
    "from sklearn.decomposition import PCA\n",
    "from sklearn.metrics import silhouette_score\n",
    "from sklearn.svm import SVC\n",
    "%matplotlib inline"
   ]
  },
  {
   "cell_type": "code",
   "execution_count": 190,
   "metadata": {
    "collapsed": true
   },
   "outputs": [],
   "source": [
    "np.random.seed(7)"
   ]
  },
  {
   "cell_type": "code",
   "execution_count": 191,
   "metadata": {
    "collapsed": true
   },
   "outputs": [],
   "source": [
    "#load datsaset\n",
    "names = ['preg','plasmaglu', 'bloodpressure','sknthckness', 'insulin', 'bmi', 'diabetes', 'age', 'class']\n",
    "df = pd.read_csv('https://archive.ics.uci.edu/ml/machine-learning-databases/pima-indians-diabetes/pima-indians-diabetes.data', names=names)"
   ]
  },
  {
   "cell_type": "code",
   "execution_count": 192,
   "metadata": {
    "collapsed": false,
    "scrolled": true
   },
   "outputs": [],
   "source": [
    "#get rid of 0s\n",
    "for feature in ['plasmaglu','bloodpressure','sknthckness','insulin','bmi']:\n",
    "   df.loc[:,feature].replace(to_replace=0, value=np.nan, inplace=True)\n",
    "for f in ['plasmaglu','bmi','bloodpressure','insulin','sknthckness']:\n",
    "  med = df[f].median()\n",
    "  df[f].fillna(med, inplace=True)"
   ]
  },
  {
   "cell_type": "code",
   "execution_count": 193,
   "metadata": {
    "collapsed": false,
    "scrolled": true
   },
   "outputs": [],
   "source": [
    "df_labels = df['diabetes']\n",
    "df_X = df.drop('diabetes', axis=1)"
   ]
  },
  {
   "cell_type": "code",
   "execution_count": 194,
   "metadata": {
    "collapsed": true
   },
   "outputs": [],
   "source": [
    "y, X = df['bloodpressure'], df.drop('bloodpressure', axis=1)"
   ]
  },
  {
   "cell_type": "code",
   "execution_count": 195,
   "metadata": {
    "collapsed": true
   },
   "outputs": [],
   "source": [
    "from sklearn.preprocessing import scale"
   ]
  },
  {
   "cell_type": "code",
   "execution_count": 196,
   "metadata": {
    "collapsed": true
   },
   "outputs": [],
   "source": [
    "#Setup the experiment with test/train and cv\n",
    "X_train, X_test, y_train, y_test = train_test_split(X, y, \n",
    "                                                    test_size=0.2, random_state=7)"
   ]
  },
  {
   "cell_type": "code",
   "execution_count": 197,
   "metadata": {
    "collapsed": true
   },
   "outputs": [],
   "source": [
    "cv = ShuffleSplit(X_train.shape[0], n_iter=5, test_size=0.2, random_state=0)"
   ]
  },
  {
   "cell_type": "code",
   "execution_count": 198,
   "metadata": {
    "collapsed": false
   },
   "outputs": [],
   "source": [
    "from sklearn.cross_validation import train_test_split\n",
    "from sklearn.preprocessing import StandardScaler\n",
    "\n",
    "# experiment w dropping low importance variables\n",
    "df = df.drop(['preg', 'age'], axis=1)\n",
    "\n",
    "# standardization: bring all of our features onto the same scale\n",
    "stdsc = StandardScaler()\n",
    "\n",
    "pima_neither = df.drop(['plasmaglu', 'insulin'], axis=1)\n",
    "# the dropped rows may bias the means - use means from this particular dataset \n",
    "pima_neither = pima_neither.fillna(pima_neither.mean())\n",
    "X_neither_std = stdsc.fit_transform(pima_neither.drop('diabetes', axis=1))\n",
    "X_train_neither, X_test_neither, y_train_neither, y_test_neither = train_test_split(\n",
    "    X_neither_std, pima_neither['diabetes'],\n",
    "    test_size=0.2, random_state=7)"
   ]
  },
  {
   "cell_type": "code",
   "execution_count": 199,
   "metadata": {
    "collapsed": true
   },
   "outputs": [],
   "source": [
    "n_digits = len(np.unique(y))"
   ]
  },
  {
   "cell_type": "code",
   "execution_count": 200,
   "metadata": {
    "collapsed": false
   },
   "outputs": [
    {
     "data": {
      "text/plain": [
       "KMeans(copy_x=True, init='k-means++', max_iter=300, n_clusters=46, n_init=10,\n",
       "    n_jobs=1, precompute_distances='auto', random_state=None, tol=0.0001,\n",
       "    verbose=0)"
      ]
     },
     "execution_count": 200,
     "metadata": {},
     "output_type": "execute_result"
    }
   ],
   "source": [
    "#kmeans using n_digits for number of clusters\n",
    "km = KMeans(n_clusters=n_digits, n_init=10)\n",
    "km.fit(X_train)"
   ]
  },
  {
   "cell_type": "code",
   "execution_count": 201,
   "metadata": {
    "collapsed": false,
    "scrolled": true
   },
   "outputs": [
    {
     "data": {
      "image/png": "[encoded data removed]",
      "text/plain": [
       "<matplotlib.figure.Figure at 0x10d772e50>"
      ]
     },
     "metadata": {},
     "output_type": "display_data"
    }
   ],
   "source": [
    "#visualize best model\n",
    "df.plot(kind='scatter', x='bloodpressure', y='diabetes');"
   ]
  },
  {
   "cell_type": "code",
   "execution_count": 202,
   "metadata": {
    "collapsed": false,
    "scrolled": true
   },
   "outputs": [
    {
     "data": {
      "image/png": "[encoded data removed]",
      "text/plain": [
       "<matplotlib.figure.Figure at 0x10cca5350>"
      ]
     },
     "metadata": {},
     "output_type": "display_data"
    }
   ],
   "source": [
    "#visualize worst model\n",
    "df.plot(kind='scatter', x='class', y='diabetes');"
   ]
  },
  {
   "cell_type": "code",
   "execution_count": 203,
   "metadata": {
    "collapsed": false
   },
   "outputs": [],
   "source": [
    "#Create PCA\n",
    "X_train_only = X_train.iloc[:, 0:64]\n",
    "X_test_only = X_test.iloc[:, 0:64]"
   ]
  },
  {
   "cell_type": "code",
   "execution_count": 204,
   "metadata": {
    "collapsed": false,
    "scrolled": true
   },
   "outputs": [
    {
     "data": {
      "text/plain": [
       "(1, 8)"
      ]
     },
     "execution_count": 204,
     "metadata": {},
     "output_type": "execute_result"
    }
   ],
   "source": [
    "pca.components_.shape"
   ]
  },
  {
   "cell_type": "code",
   "execution_count": 205,
   "metadata": {
    "collapsed": false
   },
   "outputs": [
    {
     "data": {
      "text/plain": [
       "PCA(copy=True, n_components=0.8, whiten=True)"
      ]
     },
     "execution_count": 205,
     "metadata": {},
     "output_type": "execute_result"
    }
   ],
   "source": [
    "pca = PCA(n_components=0.8, whiten=True).fit(X_train)\n",
    "pca.fit(X_train_only)"
   ]
  },
  {
   "cell_type": "code",
   "execution_count": 206,
   "metadata": {
    "collapsed": true
   },
   "outputs": [],
   "source": [
    "svm_pca = SVC(C=0.001, degree=3, gamma=1.111999, kernel='poly')"
   ]
  },
  {
   "cell_type": "code",
   "execution_count": 207,
   "metadata": {
    "collapsed": false,
    "scrolled": false
   },
   "outputs": [
    {
     "data": {
      "text/plain": [
       "<matplotlib.image.AxesImage at 0x109f89e50>"
      ]
     },
     "execution_count": 207,
     "metadata": {},
     "output_type": "execute_result"
    },
    {
     "data": {
      "image/png": "[encoded data removed]",
      "text/plain": [
       "<matplotlib.figure.Figure at 0x10d175990>"
      ]
     },
     "metadata": {},
     "output_type": "display_data"
    }
   ],
   "source": [
    "plt.imshow(pca.components_[0].reshape(1,8), cmap=plt.cm.gray_r, interpolation='nearest')"
   ]
  },
  {
   "cell_type": "code",
   "execution_count": 208,
   "metadata": {
    "collapsed": false
   },
   "outputs": [
    {
     "name": "stdout",
     "output_type": "stream",
     "text": [
      "10 loops, best of 3: 24.3 ms per loop\n"
     ]
    }
   ],
   "source": [
    "%timeit svm_pca.fit(pca.transform(X_train_only), y_train)"
   ]
  },
  {
   "cell_type": "code",
   "execution_count": 209,
   "metadata": {
    "collapsed": false,
    "scrolled": true
   },
   "outputs": [
    {
     "data": {
      "text/plain": [
       "0.11038961038961038"
      ]
     },
     "execution_count": 209,
     "metadata": {},
     "output_type": "execute_result"
    }
   ],
   "source": [
    "svm_pca.score(pca.transform(X_test_only), y_test)"
   ]
  }
 ],
 "metadata": {
  "kernelspec": {
   "display_name": "Python 2",
   "language": "python",
   "name": "python2"
  },
  "language_info": {
   "codemirror_mode": {
    "name": "ipython",
    "version": 2
   },
   "file_extension": ".py",
   "mimetype": "text/x-python",
   "name": "python",
   "nbconvert_exporter": "python",
   "pygments_lexer": "ipython2",
   "version": "2.7.10"
  }
 },
 "nbformat": 4,
 "nbformat_minor": 0
}
