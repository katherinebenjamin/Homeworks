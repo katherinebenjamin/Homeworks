{
 "cells": [
  {
   "cell_type": "markdown",
   "metadata": {},
   "source": [
    "# Give an overall summary of your performance from HW2 on the dataset. Do you see any areas for improvement?\n",
    "\n",
    "After redoing my HW2, I have learned that I first need to define x and y, take out 0s, and then place all of my modeling after I have done these steps. In HW2, my code was also all over the place, so I made an effort in HW3 to only use code I need and put it in the right order. In terms of areas for improvement, my performance scores are low so I could have picked better variables to define x and y.\n",
    "\n",
    "Logistic regression was the best model for this dataset, with 81% accuracy."
   ]
  },
  {
   "cell_type": "markdown",
   "metadata": {},
   "source": [
    "# 7. Give your conclusions on the use of k-Means and PCA on the Diabetes dataset.\n",
    "These methods are great for analyzing large datasets using unsuprivised learning. However for this dataset, k-means PCA did not help all that much."
   ]
  },
  {
   "cell_type": "code",
   "execution_count": 72,
   "metadata": {
    "collapsed": true
   },
   "outputs": [],
   "source": [
    "import pandas as pd\n",
    "import matplotlib.pyplot as plt\n",
    "import numpy as np\n",
    "from sklearn import datasets\n",
    "from sklearn.grid_search import GridSearchCV\n",
    "from sklearn.cross_validation import train_test_split, ShuffleSplit\n",
    "from sklearn.cluster import KMeans\n",
    "from sklearn.decomposition import PCA\n",
    "from sklearn.metrics import silhouette_score\n",
    "from sklearn.svm import SVC\n",
    "%matplotlib inline"
   ]
  },
  {
   "cell_type": "code",
   "execution_count": 73,
   "metadata": {
    "collapsed": true
   },
   "outputs": [],
   "source": [
    "np.random.seed(7)"
   ]
  },
  {
   "cell_type": "code",
   "execution_count": 74,
   "metadata": {
    "collapsed": true
   },
   "outputs": [],
   "source": [
    "#load datsaset\n",
    "names = ['preg','plasmaglu', 'bloodpressure','sknthckness', 'insulin', 'bmi', 'diabetes', 'age', 'class']\n",
    "df = pd.read_csv('https://archive.ics.uci.edu/ml/machine-learning-databases/pima-indians-diabetes/pima-indians-diabetes.data', names=names)"
   ]
  },
  {
   "cell_type": "code",
   "execution_count": 75,
   "metadata": {
    "collapsed": false,
    "scrolled": true
   },
   "outputs": [],
   "source": [
    "#get rid of 0s\n",
    "for feature in ['plasmaglu','bloodpressure','sknthckness','insulin','bmi']:\n",
    "   df.loc[:,feature].replace(to_replace=0, value=np.nan, inplace=True)\n",
    "for f in ['plasmaglu','bmi','bloodpressure','insulin','sknthckness']:\n",
    "  med = df[f].median()\n",
    "  df[f].fillna(med, inplace=True)"
   ]
  },
  {
   "cell_type": "code",
   "execution_count": 76,
   "metadata": {
    "collapsed": true
   },
   "outputs": [],
   "source": [
    "df = df.replace({'tsf':{0:np.nan}})\n",
    "df = df.dropna()"
   ]
  },
  {
   "cell_type": "code",
   "execution_count": 77,
   "metadata": {
    "collapsed": true
   },
   "outputs": [],
   "source": [
    "# Set up the train test data\n",
    "from sklearn.cross_validation import train_test_split\n",
    "\n",
    "y, X = df['class'], df.drop(['class'], axis=1)\n",
    "X_train, X_test, y_train, y_test = train_test_split(X, y,test_size=0.2, random_state=0)"
   ]
  },
  {
   "cell_type": "code",
   "execution_count": 78,
   "metadata": {
    "collapsed": true
   },
   "outputs": [],
   "source": [
    "# impute with mean for insulin \n",
    "X_train = X_train.replace({'insulin':{0:X_train[X_train['insulin']<>0]['insulin'].mean()}})\n",
    "X_test = X_test.replace({'insulin':{0:X_test[X_test['insulin']<>0]['insulin'].mean()}})"
   ]
  },
  {
   "cell_type": "code",
   "execution_count": 79,
   "metadata": {
    "collapsed": true
   },
   "outputs": [],
   "source": [
    "from sklearn.preprocessing import StandardScaler\n",
    "stdsc = StandardScaler()\n",
    "\n",
    "X_train_std = stdsc.fit_transform(X_train)\n",
    "\n",
    "X_test_std = stdsc.transform(X_test)"
   ]
  },
  {
   "cell_type": "markdown",
   "metadata": {},
   "source": [
    "Run k-Means on the dataset and describe your results"
   ]
  },
  {
   "cell_type": "code",
   "execution_count": 80,
   "metadata": {
    "collapsed": false
   },
   "outputs": [
    {
     "data": {
      "text/html": [
       "<div>\n",
       "<table border=\"1\" class=\"dataframe\">\n",
       "  <thead>\n",
       "    <tr style=\"text-align: right;\">\n",
       "      <th></th>\n",
       "      <th>0</th>\n",
       "      <th>1</th>\n",
       "    </tr>\n",
       "  </thead>\n",
       "  <tbody>\n",
       "    <tr>\n",
       "      <th>preg</th>\n",
       "      <td>2.219</td>\n",
       "      <td>5.724</td>\n",
       "    </tr>\n",
       "    <tr>\n",
       "      <th>plasmaglu</th>\n",
       "      <td>107.664</td>\n",
       "      <td>137.293</td>\n",
       "    </tr>\n",
       "    <tr>\n",
       "      <th>bloodpressure</th>\n",
       "      <td>66.787</td>\n",
       "      <td>79.152</td>\n",
       "    </tr>\n",
       "    <tr>\n",
       "      <th>sknthckness</th>\n",
       "      <td>26.025</td>\n",
       "      <td>32.790</td>\n",
       "    </tr>\n",
       "    <tr>\n",
       "      <th>insulin</th>\n",
       "      <td>118.531</td>\n",
       "      <td>168.200</td>\n",
       "    </tr>\n",
       "    <tr>\n",
       "      <th>bmi</th>\n",
       "      <td>30.128</td>\n",
       "      <td>35.420</td>\n",
       "    </tr>\n",
       "    <tr>\n",
       "      <th>diabetes</th>\n",
       "      <td>0.441</td>\n",
       "      <td>0.495</td>\n",
       "    </tr>\n",
       "    <tr>\n",
       "      <th>age</th>\n",
       "      <td>26.701</td>\n",
       "      <td>41.297</td>\n",
       "    </tr>\n",
       "  </tbody>\n",
       "</table>\n",
       "</div>"
      ],
      "text/plain": [
       "                    0       1\n",
       "preg            2.219   5.724\n",
       "plasmaglu     107.664 137.293\n",
       "bloodpressure  66.787  79.152\n",
       "sknthckness    26.025  32.790\n",
       "insulin       118.531 168.200\n",
       "bmi            30.128  35.420\n",
       "diabetes        0.441   0.495\n",
       "age            26.701  41.297"
      ]
     },
     "execution_count": 80,
     "metadata": {},
     "output_type": "execute_result"
    },
    {
     "data": {
      "image/png": "[encoded data removed]",
      "text/plain": [
       "<matplotlib.figure.Figure at 0x100735c50>"
      ]
     },
     "metadata": {},
     "output_type": "display_data"
    }
   ],
   "source": [
    "#kMeans\n",
    "\n",
    "from sklearn.cluster import KMeans\n",
    "\n",
    "import matplotlib.pyplot as plt\n",
    "%matplotlib inline\n",
    "\n",
    "x = []\n",
    "y = []\n",
    "for n in range(1,20):\n",
    "    km2 = KMeans(n_clusters=n)\n",
    "    km2.fit(X_train_std)\n",
    "    x.append(n)\n",
    "    y.append(km2.inertia_)\n",
    "plt.plot(x, y)\n",
    "\n",
    "from sklearn.metrics import silhouette_score\n",
    "x = []\n",
    "y = []\n",
    "for n in range(2,20):\n",
    "    km2 = KMeans(n_clusters=n)\n",
    "    centers = km2.fit_predict(X_train_std)\n",
    "    x.append(n)\n",
    "    y.append(silhouette_score(X_train_std, centers))\n",
    "plt.plot(x, y)\n",
    "\n",
    "\n",
    "# get the cluster centers in the original scale\n",
    "# this means you will have k cluster centers\n",
    "# we pick k=2 based on silhouette score and elbow method\n",
    "km = KMeans(n_clusters=2, n_init=20)\n",
    "km.fit(X_train_std)\n",
    "pd.set_option('display.float_format', lambda x: '%.3f' % x)\n",
    "columns = {str(x): stdsc.inverse_transform(km.cluster_centers_[x]) for x in range(0,len(km.cluster_centers_))}\n",
    "pd.DataFrame(columns, index=X.columns)"
   ]
  },
  {
   "cell_type": "markdown",
   "metadata": {},
   "source": [
    "4. Run PCA on the dataset and describe your results"
   ]
  },
  {
   "cell_type": "code",
   "execution_count": 81,
   "metadata": {
    "collapsed": false
   },
   "outputs": [
    {
     "data": {
      "text/plain": [
       "[<matplotlib.lines.Line2D at 0x10d1b6850>]"
      ]
     },
     "execution_count": 81,
     "metadata": {},
     "output_type": "execute_result"
    },
    {
     "data": {
      "image/png": "[encoded data removed]",
      "text/plain": [
       "<matplotlib.figure.Figure at 0x10cba4f10>"
      ]
     },
     "metadata": {},
     "output_type": "display_data"
    }
   ],
   "source": [
    "#PCA\n",
    "\n",
    "from sklearn.decomposition import PCA\n",
    "n_pc = X_train.shape[1]\n",
    "\n",
    "pca = PCA(n_components=n_pc, whiten=True)\n",
    "pca.fit(X_train_std)\n",
    "\n",
    "# the first 5 components explain over 80% of the variance\n",
    "pca.explained_variance_ratio_\n",
    "\n",
    "# plot the explained variance ratio\n",
    "plt.plot(range(n_pc), pca.explained_variance_ratio_)"
   ]
  },
  {
   "cell_type": "markdown",
   "metadata": {},
   "source": [
    "5. Use the cluster outputs you got from running k-means as a new feature. Rerun your \"worst\" and \"best\" model from HW2, including this new feature along with your old features. Describe your results."
   ]
  },
  {
   "cell_type": "code",
   "execution_count": 82,
   "metadata": {
    "collapsed": true
   },
   "outputs": [],
   "source": [
    "# append the labels to a new k means dataframe\n",
    "X_train_km = X_train.copy()\n",
    "X_train_km['labels'] = km.labels_\n",
    "\n",
    "# fit the test data to the clusters\n",
    "X_test_km = X_test.copy()\n",
    "X_test_km['labels'] = km.predict(X_test_std)"
   ]
  },
  {
   "cell_type": "code",
   "execution_count": 83,
   "metadata": {
    "collapsed": true
   },
   "outputs": [],
   "source": [
    "from sklearn.cross_validation import ShuffleSplit\n",
    "cv = ShuffleSplit(X_train.shape[0], n_iter=10, test_size=0.2, random_state=0)\n",
    "\n",
    "from sklearn.metrics import classification_report\n",
    "from sklearn.cross_validation import cross_val_score\n",
    "from sklearn.grid_search import GridSearchCV"
   ]
  },
  {
   "cell_type": "code",
   "execution_count": 84,
   "metadata": {
    "collapsed": true
   },
   "outputs": [],
   "source": [
    "# standardize the new text and train\n",
    "X_train_std_km = stdsc.fit_transform(X_train_km)\n",
    "# transform the testing features in the same way\n",
    "X_test_std_km = stdsc.transform(X_test_km)"
   ]
  },
  {
   "cell_type": "code",
   "execution_count": 85,
   "metadata": {
    "collapsed": true
   },
   "outputs": [],
   "source": [
    "from sklearn.naive_bayes import GaussianNB\n",
    "gnb = GaussianNB()\n",
    "gnb.fit(X_train_std_km, y_train)\n",
    "\n",
    "\n",
    "from sklearn.metrics import precision_recall_fscore_support\n",
    "from sklearn.metrics import accuracy_score\n",
    "\n",
    "metrics = list(precision_recall_fscore_support(gnb.predict(X_test_std_km), y_test, average='binary'))[:3]\n",
    "metrics.append(accuracy_score(gnb.predict(X_test_std_km), y_test))"
   ]
  },
  {
   "cell_type": "code",
   "execution_count": 86,
   "metadata": {
    "collapsed": false
   },
   "outputs": [
    {
     "data": {
      "text/html": [
       "<div>\n",
       "<table border=\"1\" class=\"dataframe\">\n",
       "  <thead>\n",
       "    <tr style=\"text-align: right;\">\n",
       "      <th></th>\n",
       "      <th>preg</th>\n",
       "      <th>plasmaglu</th>\n",
       "      <th>bloodpressure</th>\n",
       "      <th>sknthckness</th>\n",
       "      <th>insulin</th>\n",
       "      <th>bmi</th>\n",
       "      <th>diabetes</th>\n",
       "      <th>age</th>\n",
       "      <th>labels</th>\n",
       "    </tr>\n",
       "  </thead>\n",
       "  <tbody>\n",
       "    <tr>\n",
       "      <th>preg</th>\n",
       "      <td>1.000</td>\n",
       "      <td>0.130</td>\n",
       "      <td>0.189</td>\n",
       "      <td>0.073</td>\n",
       "      <td>0.029</td>\n",
       "      <td>-0.007</td>\n",
       "      <td>-0.047</td>\n",
       "      <td>0.540</td>\n",
       "      <td>0.509</td>\n",
       "    </tr>\n",
       "    <tr>\n",
       "      <th>plasmaglu</th>\n",
       "      <td>0.130</td>\n",
       "      <td>1.000</td>\n",
       "      <td>0.224</td>\n",
       "      <td>0.168</td>\n",
       "      <td>0.421</td>\n",
       "      <td>0.252</td>\n",
       "      <td>0.123</td>\n",
       "      <td>0.285</td>\n",
       "      <td>0.489</td>\n",
       "    </tr>\n",
       "    <tr>\n",
       "      <th>bloodpressure</th>\n",
       "      <td>0.189</td>\n",
       "      <td>0.224</td>\n",
       "      <td>1.000</td>\n",
       "      <td>0.198</td>\n",
       "      <td>0.033</td>\n",
       "      <td>0.283</td>\n",
       "      <td>-0.008</td>\n",
       "      <td>0.319</td>\n",
       "      <td>0.514</td>\n",
       "    </tr>\n",
       "    <tr>\n",
       "      <th>sknthckness</th>\n",
       "      <td>0.073</td>\n",
       "      <td>0.168</td>\n",
       "      <td>0.198</td>\n",
       "      <td>1.000</td>\n",
       "      <td>0.126</td>\n",
       "      <td>0.546</td>\n",
       "      <td>0.105</td>\n",
       "      <td>0.107</td>\n",
       "      <td>0.382</td>\n",
       "    </tr>\n",
       "    <tr>\n",
       "      <th>insulin</th>\n",
       "      <td>0.029</td>\n",
       "      <td>0.421</td>\n",
       "      <td>0.033</td>\n",
       "      <td>0.126</td>\n",
       "      <td>1.000</td>\n",
       "      <td>0.168</td>\n",
       "      <td>0.134</td>\n",
       "      <td>0.090</td>\n",
       "      <td>0.280</td>\n",
       "    </tr>\n",
       "    <tr>\n",
       "      <th>bmi</th>\n",
       "      <td>-0.007</td>\n",
       "      <td>0.252</td>\n",
       "      <td>0.283</td>\n",
       "      <td>0.546</td>\n",
       "      <td>0.168</td>\n",
       "      <td>1.000</td>\n",
       "      <td>0.162</td>\n",
       "      <td>0.006</td>\n",
       "      <td>0.378</td>\n",
       "    </tr>\n",
       "    <tr>\n",
       "      <th>diabetes</th>\n",
       "      <td>-0.047</td>\n",
       "      <td>0.123</td>\n",
       "      <td>-0.008</td>\n",
       "      <td>0.105</td>\n",
       "      <td>0.134</td>\n",
       "      <td>0.162</td>\n",
       "      <td>1.000</td>\n",
       "      <td>0.028</td>\n",
       "      <td>0.082</td>\n",
       "    </tr>\n",
       "    <tr>\n",
       "      <th>age</th>\n",
       "      <td>0.540</td>\n",
       "      <td>0.285</td>\n",
       "      <td>0.319</td>\n",
       "      <td>0.107</td>\n",
       "      <td>0.090</td>\n",
       "      <td>0.006</td>\n",
       "      <td>0.028</td>\n",
       "      <td>1.000</td>\n",
       "      <td>0.607</td>\n",
       "    </tr>\n",
       "    <tr>\n",
       "      <th>labels</th>\n",
       "      <td>0.509</td>\n",
       "      <td>0.489</td>\n",
       "      <td>0.514</td>\n",
       "      <td>0.382</td>\n",
       "      <td>0.280</td>\n",
       "      <td>0.378</td>\n",
       "      <td>0.082</td>\n",
       "      <td>0.607</td>\n",
       "      <td>1.000</td>\n",
       "    </tr>\n",
       "  </tbody>\n",
       "</table>\n",
       "</div>"
      ],
      "text/plain": [
       "                preg  plasmaglu  bloodpressure  sknthckness  insulin    bmi  \\\n",
       "preg           1.000      0.130          0.189        0.073    0.029 -0.007   \n",
       "plasmaglu      0.130      1.000          0.224        0.168    0.421  0.252   \n",
       "bloodpressure  0.189      0.224          1.000        0.198    0.033  0.283   \n",
       "sknthckness    0.073      0.168          0.198        1.000    0.126  0.546   \n",
       "insulin        0.029      0.421          0.033        0.126    1.000  0.168   \n",
       "bmi           -0.007      0.252          0.283        0.546    0.168  1.000   \n",
       "diabetes      -0.047      0.123         -0.008        0.105    0.134  0.162   \n",
       "age            0.540      0.285          0.319        0.107    0.090  0.006   \n",
       "labels         0.509      0.489          0.514        0.382    0.280  0.378   \n",
       "\n",
       "               diabetes   age  labels  \n",
       "preg             -0.047 0.540   0.509  \n",
       "plasmaglu         0.123 0.285   0.489  \n",
       "bloodpressure    -0.008 0.319   0.514  \n",
       "sknthckness       0.105 0.107   0.382  \n",
       "insulin           0.134 0.090   0.280  \n",
       "bmi               0.162 0.006   0.378  \n",
       "diabetes          1.000 0.028   0.082  \n",
       "age               0.028 1.000   0.607  \n",
       "labels            0.082 0.607   1.000  "
      ]
     },
     "execution_count": 86,
     "metadata": {},
     "output_type": "execute_result"
    }
   ],
   "source": [
    "X_train_km.corr()"
   ]
  },
  {
   "cell_type": "code",
   "execution_count": 87,
   "metadata": {
    "collapsed": false
   },
   "outputs": [
    {
     "data": {
      "text/plain": [
       "GridSearchCV(cv=ShuffleSplit(614, n_iter=10, test_size=0.2, random_state=0),\n",
       "       error_score='raise',\n",
       "       estimator=LogisticRegression(C=1.0, class_weight=None, dual=False, fit_intercept=True,\n",
       "          intercept_scaling=1, max_iter=100, multi_class='ovr',\n",
       "          penalty='l2', random_state=None, solver='liblinear', tol=0.0001,\n",
       "          verbose=0),\n",
       "       fit_params={}, iid=True, loss_func=None, n_jobs=1,\n",
       "       param_grid={'penalty': ['l1', 'l2'], 'C': array([ 0.1    ,  0.13878,  0.17755,  0.21633,  0.2551 ,  0.29388,\n",
       "        0.33265,  0.37143,  0.4102 ,  0.44898,  0.48776,  0.52653,\n",
       "        0.56531,  0.60408,  0.64286,  0.68163,  0.72041,  0.75918,\n",
       "        0.79796,  0.83673,  0.87551,  0.91429,  0.95306, ...98 ,\n",
       "        1.72857,  1.76735,  1.80612,  1.8449 ,  1.88367,  1.92245,\n",
       "        1.96122,  2.     ])},\n",
       "       pre_dispatch='2*n_jobs', refit=True, score_func=None, scoring=None,\n",
       "       verbose=0)"
      ]
     },
     "execution_count": 87,
     "metadata": {},
     "output_type": "execute_result"
    }
   ],
   "source": [
    "# Logistic Regression with ridge and lasso\n",
    "from sklearn.linear_model import LogisticRegression\n",
    "logreg = LogisticRegression()\n",
    "parameters = {'penalty': ['l1','l2'], 'C':np.linspace(0.1,2.0,50)}\n",
    "clf = GridSearchCV(logreg, parameters, cv=cv)\n",
    "clf.fit(X_train_std_km, y_train)"
   ]
  },
  {
   "cell_type": "code",
   "execution_count": 88,
   "metadata": {
    "collapsed": false
   },
   "outputs": [
    {
     "data": {
      "text/html": [
       "<div>\n",
       "<table border=\"1\" class=\"dataframe\">\n",
       "  <thead>\n",
       "    <tr style=\"text-align: right;\">\n",
       "      <th></th>\n",
       "      <th>coefs</th>\n",
       "      <th>features</th>\n",
       "    </tr>\n",
       "  </thead>\n",
       "  <tbody>\n",
       "    <tr>\n",
       "      <th>1</th>\n",
       "      <td>1.026</td>\n",
       "      <td>plasmaglu</td>\n",
       "    </tr>\n",
       "    <tr>\n",
       "      <th>5</th>\n",
       "      <td>0.555</td>\n",
       "      <td>bmi</td>\n",
       "    </tr>\n",
       "    <tr>\n",
       "      <th>0</th>\n",
       "      <td>0.282</td>\n",
       "      <td>preg</td>\n",
       "    </tr>\n",
       "    <tr>\n",
       "      <th>6</th>\n",
       "      <td>0.214</td>\n",
       "      <td>diabetes</td>\n",
       "    </tr>\n",
       "    <tr>\n",
       "      <th>7</th>\n",
       "      <td>0.159</td>\n",
       "      <td>age</td>\n",
       "    </tr>\n",
       "    <tr>\n",
       "      <th>3</th>\n",
       "      <td>0.000</td>\n",
       "      <td>sknthckness</td>\n",
       "    </tr>\n",
       "    <tr>\n",
       "      <th>8</th>\n",
       "      <td>0.000</td>\n",
       "      <td>labels</td>\n",
       "    </tr>\n",
       "    <tr>\n",
       "      <th>4</th>\n",
       "      <td>-0.043</td>\n",
       "      <td>insulin</td>\n",
       "    </tr>\n",
       "    <tr>\n",
       "      <th>2</th>\n",
       "      <td>-0.065</td>\n",
       "      <td>bloodpressure</td>\n",
       "    </tr>\n",
       "  </tbody>\n",
       "</table>\n",
       "</div>"
      ],
      "text/plain": [
       "   coefs       features\n",
       "1  1.026      plasmaglu\n",
       "5  0.555            bmi\n",
       "0  0.282           preg\n",
       "6  0.214       diabetes\n",
       "7  0.159            age\n",
       "3  0.000    sknthckness\n",
       "8  0.000         labels\n",
       "4 -0.043        insulin\n",
       "2 -0.065  bloodpressure"
      ]
     },
     "execution_count": 88,
     "metadata": {},
     "output_type": "execute_result"
    }
   ],
   "source": [
    "pd.DataFrame({'features': X_train_km.columns, 'coefs': best_logreg.coef_[0]}).sort_values(by='coefs',ascending=False)"
   ]
  },
  {
   "cell_type": "code",
   "execution_count": 89,
   "metadata": {
    "collapsed": false
   },
   "outputs": [
    {
     "name": "stdout",
     "output_type": "stream",
     "text": [
      "             precision    recall  f1-score   support\n",
      "\n",
      "          0       0.91      0.84      0.87       116\n",
      "          1       0.60      0.74      0.66        38\n",
      "\n",
      "avg / total       0.83      0.81      0.82       154\n",
      "\n",
      "CV score [ 0.76422764  0.78861789  0.80487805  0.76422764  0.81300813  0.73170732\n",
      "  0.76422764  0.75609756  0.76422764  0.71544715], Average score 0.766666666667\n"
     ]
    },
    {
     "data": {
      "text/plain": [
       "0.81168831168831168"
      ]
     },
     "execution_count": 89,
     "metadata": {},
     "output_type": "execute_result"
    }
   ],
   "source": [
    "clf.best_params_\n",
    "best_logreg = clf.best_estimator_\n",
    "print classification_report(best_logreg.predict(X_test_std_km), y_test)\n",
    "scores = cross_val_score(best_logreg, X_train_std_km, y_train, cv=cv)\n",
    "print('CV score {}, Average score {}'.format(scores, scores.mean()))\n",
    "best_logreg.score(X_test_std_km, y_test)"
   ]
  },
  {
   "cell_type": "code",
   "execution_count": 90,
   "metadata": {
    "collapsed": false
   },
   "outputs": [
    {
     "data": {
      "text/plain": [
       "{'min_samples_leaf': 2, 'min_samples_split': 8, 'n_estimators': 24}"
      ]
     },
     "execution_count": 90,
     "metadata": {},
     "output_type": "execute_result"
    }
   ],
   "source": [
    "#random forest\n",
    "from sklearn.ensemble import RandomForestClassifier\n",
    "rf = RandomForestClassifier(random_state=1)\n",
    "parameters = {'n_estimators':range(20,50,2), 'min_samples_split':range(2,10),'min_samples_leaf':range(1,3)}\n",
    "clf = GridSearchCV(rf, parameters)\n",
    "clf.fit(X_train_std_km, y_train)\n",
    "clf.best_params_"
   ]
  },
  {
   "cell_type": "code",
   "execution_count": 91,
   "metadata": {
    "collapsed": false
   },
   "outputs": [
    {
     "name": "stdout",
     "output_type": "stream",
     "text": [
      "             precision    recall  f1-score   support\n",
      "\n",
      "          0       0.89      0.86      0.87       111\n",
      "          1       0.66      0.72      0.69        43\n",
      "\n",
      "avg / total       0.82      0.82      0.82       154\n",
      "\n"
     ]
    }
   ],
   "source": [
    "best_rf = clf.best_estimator_\n",
    "print classification_report(best_rf.predict(X_test_std_km), y_test)\n",
    "metrics = list(precision_recall_fscore_support(best_rf.predict(X_test_std_km), y_test, average='binary'))[:3]\n",
    "metrics.append(accuracy_score(best_rf.predict(X_test_std_km), y_test))"
   ]
  },
  {
   "cell_type": "code",
   "execution_count": 92,
   "metadata": {
    "collapsed": false
   },
   "outputs": [
    {
     "data": {
      "text/html": [
       "<div>\n",
       "<table border=\"1\" class=\"dataframe\">\n",
       "  <thead>\n",
       "    <tr style=\"text-align: right;\">\n",
       "      <th></th>\n",
       "      <th>Features</th>\n",
       "      <th>Importance Score</th>\n",
       "    </tr>\n",
       "  </thead>\n",
       "  <tbody>\n",
       "    <tr>\n",
       "      <th>1</th>\n",
       "      <td>plasmaglu</td>\n",
       "      <td>0.287</td>\n",
       "    </tr>\n",
       "    <tr>\n",
       "      <th>5</th>\n",
       "      <td>bmi</td>\n",
       "      <td>0.162</td>\n",
       "    </tr>\n",
       "    <tr>\n",
       "      <th>7</th>\n",
       "      <td>age</td>\n",
       "      <td>0.141</td>\n",
       "    </tr>\n",
       "    <tr>\n",
       "      <th>6</th>\n",
       "      <td>diabetes</td>\n",
       "      <td>0.126</td>\n",
       "    </tr>\n",
       "    <tr>\n",
       "      <th>4</th>\n",
       "      <td>insulin</td>\n",
       "      <td>0.085</td>\n",
       "    </tr>\n",
       "    <tr>\n",
       "      <th>2</th>\n",
       "      <td>bloodpressure</td>\n",
       "      <td>0.065</td>\n",
       "    </tr>\n",
       "    <tr>\n",
       "      <th>0</th>\n",
       "      <td>preg</td>\n",
       "      <td>0.061</td>\n",
       "    </tr>\n",
       "    <tr>\n",
       "      <th>3</th>\n",
       "      <td>sknthckness</td>\n",
       "      <td>0.043</td>\n",
       "    </tr>\n",
       "    <tr>\n",
       "      <th>8</th>\n",
       "      <td>labels</td>\n",
       "      <td>0.031</td>\n",
       "    </tr>\n",
       "  </tbody>\n",
       "</table>\n",
       "</div>"
      ],
      "text/plain": [
       "        Features  Importance Score\n",
       "1      plasmaglu             0.287\n",
       "5            bmi             0.162\n",
       "7            age             0.141\n",
       "6       diabetes             0.126\n",
       "4        insulin             0.085\n",
       "2  bloodpressure             0.065\n",
       "0           preg             0.061\n",
       "3    sknthckness             0.043\n",
       "8         labels             0.031"
      ]
     },
     "execution_count": 92,
     "metadata": {},
     "output_type": "execute_result"
    }
   ],
   "source": [
    "features = X_train_km.columns\n",
    "feature_importances = best_rf.feature_importances_\n",
    "\n",
    "features_df = pd.DataFrame({'Features': features, 'Importance Score': feature_importances})\n",
    "features_df.sort_values('Importance Score', inplace=True, ascending=False)\n",
    "\n",
    "features_df"
   ]
  },
  {
   "cell_type": "markdown",
   "metadata": {},
   "source": [
    "Use the PCA outputs you got from running PCA above as your features. Rerun your \"worst\" and \"best\" model from HW2, with the PCA features instead of your old features. Describe your results"
   ]
  },
  {
   "cell_type": "code",
   "execution_count": 93,
   "metadata": {
    "collapsed": true
   },
   "outputs": [],
   "source": [
    "# run PCA using the top 5 features\n",
    "pca = PCA(n_components=5, whiten=True)\n",
    "X_train_std_pca = pca.fit_transform(X_train_std)\n",
    "X_test_std_pca = pca.transform(X_test_std)"
   ]
  },
  {
   "cell_type": "code",
   "execution_count": 94,
   "metadata": {
    "collapsed": false
   },
   "outputs": [
    {
     "name": "stdout",
     "output_type": "stream",
     "text": [
      "             precision    recall  f1-score   support\n",
      "\n",
      "          0       0.87      0.78      0.82       120\n",
      "          1       0.43      0.59      0.49        34\n",
      "\n",
      "avg / total       0.77      0.73      0.75       154\n",
      "\n",
      "CV score [ 0.73170732  0.71544715  0.77235772  0.70731707  0.69918699  0.73170732\n",
      "  0.73170732  0.73170732  0.71544715  0.7398374 ], Average score 0.727642276423\n"
     ]
    },
    {
     "data": {
      "text/plain": [
       "0.73376623376623373"
      ]
     },
     "execution_count": 94,
     "metadata": {},
     "output_type": "execute_result"
    }
   ],
   "source": [
    "gnb.fit(X_train_std_pca, y_train)\n",
    "\n",
    "print classification_report(gnb.predict(X_test_std_pca), y_test)\n",
    "scores = cross_val_score(gnb, X_train_std_pca, y_train, cv=cv)\n",
    "print('CV score {}, Average score {}'.format(scores, scores.mean()))\n",
    "gnb.score(X_test_std_pca, y_test)"
   ]
  }
 ],
 "metadata": {
  "kernelspec": {
   "display_name": "Python 2",
   "language": "python",
   "name": "python2"
  },
  "language_info": {
   "codemirror_mode": {
    "name": "ipython",
    "version": 2
   },
   "file_extension": ".py",
   "mimetype": "text/x-python",
   "name": "python",
   "nbconvert_exporter": "python",
   "pygments_lexer": "ipython2",
   "version": "2.7.10"
  }
 },
 "nbformat": 4,
 "nbformat_minor": 0
}
